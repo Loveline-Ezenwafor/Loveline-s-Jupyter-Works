{
 "cells": [
  {
   "cell_type": "code",
   "execution_count": 1,
   "metadata": {},
   "outputs": [
    {
     "name": "stdout",
     "output_type": "stream",
     "text": [
      "This program shows the data of analysts working on Weather Analysis.\n",
      "                        Names\n",
      "0             Chinwe Victoria\n",
      "1          Ezenwafor Loveline\n",
      "2  Ogungbade Stella Adefisola\n",
      "3          Omanukwue Ifunanya\n"
     ]
    }
   ],
   "source": [
    "#Group 2 data for analysts working on Weather Analysis\n",
    "import pandas as pd\n",
    "\n",
    "print(\"This program shows the data of analysts working on Weather Analysis.\")\n",
    "Love = r\"C:\\Users\\Janet\\Documents\\grp2.csv\"\n",
    "\n",
    "Loveline = pd.read_csv(Love)\n",
    "print(Loveline)"
   ]
  },
  {
   "cell_type": "code",
   "execution_count": 2,
   "metadata": {},
   "outputs": [
    {
     "data": {
      "text/html": [
       "<div>\n",
       "<style scoped>\n",
       "    .dataframe tbody tr th:only-of-type {\n",
       "        vertical-align: middle;\n",
       "    }\n",
       "\n",
       "    .dataframe tbody tr th {\n",
       "        vertical-align: top;\n",
       "    }\n",
       "\n",
       "    .dataframe thead th {\n",
       "        text-align: right;\n",
       "    }\n",
       "</style>\n",
       "<table border=\"1\" class=\"dataframe\">\n",
       "  <thead>\n",
       "    <tr style=\"text-align: right;\">\n",
       "      <th></th>\n",
       "      <th>Names</th>\n",
       "      <th>Gender</th>\n",
       "    </tr>\n",
       "  </thead>\n",
       "  <tbody>\n",
       "    <tr>\n",
       "      <th>0</th>\n",
       "      <td>Chinwe Victoria</td>\n",
       "      <td>F</td>\n",
       "    </tr>\n",
       "    <tr>\n",
       "      <th>1</th>\n",
       "      <td>Ezenwafor Loveline</td>\n",
       "      <td>F</td>\n",
       "    </tr>\n",
       "    <tr>\n",
       "      <th>2</th>\n",
       "      <td>Ogungbade Stella Adefisola</td>\n",
       "      <td>F</td>\n",
       "    </tr>\n",
       "    <tr>\n",
       "      <th>3</th>\n",
       "      <td>Omanukwue Ifunanya</td>\n",
       "      <td>F</td>\n",
       "    </tr>\n",
       "  </tbody>\n",
       "</table>\n",
       "</div>"
      ],
      "text/plain": [
       "                        Names Gender\n",
       "0             Chinwe Victoria      F\n",
       "1          Ezenwafor Loveline      F\n",
       "2  Ogungbade Stella Adefisola      F\n",
       "3          Omanukwue Ifunanya      F"
      ]
     },
     "execution_count": 2,
     "metadata": {},
     "output_type": "execute_result"
    }
   ],
   "source": [
    "Loveline[\"Gender\"] = [\"F\",\"F\",\"F\",\"F\"]\n",
    "Loveline"
   ]
  },
  {
   "cell_type": "code",
   "execution_count": null,
   "metadata": {},
   "outputs": [],
   "source": []
  }
 ],
 "metadata": {
  "interpreter": {
   "hash": "4a2ff0d406259f33a4f41f5f86ce6ab5fdcd2992592dbd420e0be3b67fceb834"
  },
  "kernelspec": {
   "display_name": "Python 3.10.0 64-bit",
   "language": "python",
   "name": "python3"
  },
  "language_info": {
   "codemirror_mode": {
    "name": "ipython",
    "version": 3
   },
   "file_extension": ".py",
   "mimetype": "text/x-python",
   "name": "python",
   "nbconvert_exporter": "python",
   "pygments_lexer": "ipython3",
   "version": "3.10.0"
  },
  "orig_nbformat": 4
 },
 "nbformat": 4,
 "nbformat_minor": 2
}
