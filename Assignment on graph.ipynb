{
 "cells": [
  {
   "cell_type": "code",
   "execution_count": 2,
   "metadata": {},
   "outputs": [
    {
     "name": "stdout",
     "output_type": "stream",
     "text": [
      "     Currency        Date  Closing Price (USD)  24h Open (USD)  \\\n",
      "0         BTC  2014-11-04           324.467934      323.826186   \n",
      "1         BTC  2014-11-05           328.644408      324.424164   \n",
      "2         BTC  2014-11-06           337.921358      328.653046   \n",
      "3         BTC  2014-11-07           348.992860      337.921358   \n",
      "4         BTC  2014-11-08           341.459753      348.992860   \n",
      "...       ...         ...                  ...             ...   \n",
      "2635      BTC  2022-01-21         40716.680726    41684.004205   \n",
      "2636      BTC  2022-01-22         36485.436798    40713.972314   \n",
      "2637      BTC  2022-01-23         35071.804446    36483.314556   \n",
      "2638      BTC  2022-01-24         36285.926944    35070.896987   \n",
      "2639      BTC  2022-01-25         36699.614179    36285.633626   \n",
      "\n",
      "      24h High (USD)  24h Low (USD)  \n",
      "0         333.539527     323.106623  \n",
      "1         330.671610     320.902900  \n",
      "2         342.384170     328.597125  \n",
      "3         352.585895     336.236830  \n",
      "4         351.651854     340.196145  \n",
      "...              ...            ...  \n",
      "2635    43494.406004   40570.778121  \n",
      "2636    41105.580000   35501.072174  \n",
      "2637    36810.010000   34064.900000  \n",
      "2638    36514.853501   34630.980000  \n",
      "2639    37500.000000   32983.590000  \n",
      "\n",
      "[2640 rows x 6 columns]\n"
     ]
    }
   ],
   "source": [
    "import matplotlib.pyplot as plt \n",
    "import pandas as pd\n",
    "\n",
    "BTC_File = r\"C:\\Users\\Loveline\\Documents\\BTC_USD_2014-11-04_2022-01-25-CoinDesk.csv\"\n",
    "Love = pd.read_csv(BTC_File)\n",
    "print(Love)"
   ]
  },
  {
   "cell_type": "code",
   "execution_count": null,
   "metadata": {},
   "outputs": [],
   "source": [
    "Love.head()"
   ]
  },
  {
   "cell_type": "code",
   "execution_count": 7,
   "metadata": {},
   "outputs": [
    {
     "data": {
      "text/plain": [
       "(<AxesSubplot:>, '24h Open (USD)')"
      ]
     },
     "execution_count": 7,
     "metadata": {},
     "output_type": "execute_result"
    }
   ],
   "source": [
    "Love.plot(kind=\"bar\"),(\"24h Open (USD)\")"
   ]
  }
 ],
 "metadata": {
  "interpreter": {
   "hash": "4a2ff0d406259f33a4f41f5f86ce6ab5fdcd2992592dbd420e0be3b67fceb834"
  },
  "kernelspec": {
   "display_name": "Python 3.10.0 64-bit",
   "language": "python",
   "name": "python3"
  },
  "language_info": {
   "codemirror_mode": {
    "name": "ipython",
    "version": 3
   },
   "file_extension": ".py",
   "mimetype": "text/x-python",
   "name": "python",
   "nbconvert_exporter": "python",
   "pygments_lexer": "ipython3",
   "version": "3.10.0"
  },
  "orig_nbformat": 4
 },
 "nbformat": 4,
 "nbformat_minor": 2
}
