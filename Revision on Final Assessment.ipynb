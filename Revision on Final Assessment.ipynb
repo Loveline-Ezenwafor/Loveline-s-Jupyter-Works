{
 "cells": [
  {
   "cell_type": "code",
   "execution_count": null,
   "metadata": {},
   "outputs": [],
   "source": [
    "from math import pi,sqrt\n",
    "sqrt(25)"
   ]
  },
  {
   "cell_type": "code",
   "execution_count": null,
   "metadata": {},
   "outputs": [],
   "source": [
    "100!=100.0"
   ]
  },
  {
   "cell_type": "code",
   "execution_count": null,
   "metadata": {},
   "outputs": [],
   "source": [
    "fruits = [\"Mango\",\"Apple\",\"Banana\"]\n",
    "for l in fruits:\n",
    "    print(l)"
   ]
  },
  {
   "cell_type": "code",
   "execution_count": null,
   "metadata": {},
   "outputs": [],
   "source": [
    "def x(y):\n",
    "    if y%2==0:\n",
    "        return True\n",
    "    else:\n",
    "        return False\n",
    "        (x(43))"
   ]
  },
  {
   "cell_type": "code",
   "execution_count": null,
   "metadata": {},
   "outputs": [],
   "source": [
    "import numpy as np\n",
    "x = np.arange(1,5)\n",
    "x = x*2\n",
    "x[:3].sum()\n",
    "x"
   ]
  },
  {
   "cell_type": "code",
   "execution_count": null,
   "metadata": {},
   "outputs": [],
   "source": [
    "vee = (23)\n",
    "type(vee)\n",
    "complex(23)"
   ]
  },
  {
   "cell_type": "code",
   "execution_count": 26,
   "metadata": {},
   "outputs": [
    {
     "name": "stdout",
     "output_type": "stream",
     "text": [
      "\n",
      "The area of a rectangle is the multiplication of Length and Breadth.\n",
      "\n",
      "The area of the rectangle is , 2925\n"
     ]
    }
   ],
   "source": [
    "#Area of a rectangle\n",
    "Num1 = int(input(\"Enter the length...\"))\n",
    "Num2 = int(input(\"Enter the breadth...\"))\n",
    "print()\n",
    "print(\"The area of a rectangle is the multiplication of Length and Breadth.\")\n",
    "print()\n",
    "Area = (Num1*Num2)\n",
    "print(\"The area of the rectangle is\",\",\",Area)"
   ]
  },
  {
   "cell_type": "code",
   "execution_count": null,
   "metadata": {},
   "outputs": [],
   "source": [
    "#Arithematic operators to per4m common mathematical probs,+-/*\n",
    "#Assignment   \"\"   \"\"  to assign values to variables,=,+=,-=,/=,*=\n",
    "#Comparison   \"\"   \"\"  to compare 2 values,==,!=,>,<,>=,<=\n",
    "#Logical      \"\"   \"\"  to combine conditional statements,and,or,not\n",
    "#Membership   \"\"   \"\"  to test if a sequence is present in an obj,in,not in\n",
    "#Easiest way to create a dataframe is by using a dictionay\n",
    "#To access a row,df.loc[\"bob\"],access column,df[\"names\"],multiple columns,df[[\"ages\",\"heights\"]]\n",
    "#Chained indexing is an error that occurs bcos of the use of[].its a prob wen we av large dataset and d \n",
    "#scripts bhv in an unpredictable way\n",
    "#DF.at[0,\"ages\"],DF.loc[\"Sera\",\"Dan\"],[\"ages\",\"jo\"] or df.loc[df[\"ages\"]<20],df.iat[0,0],\n",
    "#df.loc[\"james\":\"bob\",\"ages\":\"heights\"],df.iloc[[0,1],[0,1]] or [0:2,0:2],df[(df[\"ages\"]>18)&(df[\"heights\"]>180)]]\n",
    "#drop=df.drop(\"column/row name,axis,inplace\")\n",
    "#create=df[\"ages\"]=[2,3,4,5]\n"
   ]
  },
  {
   "cell_type": "code",
   "execution_count": 28,
   "metadata": {},
   "outputs": [
    {
     "name": "stdout",
     "output_type": "stream",
     "text": [
      "You're welcome , Loveline\n",
      "\n",
      "\n",
      "Loveline , your grade is A.\n"
     ]
    }
   ],
   "source": [
    "user = input(\"Enter a username: \")\n",
    "print(\"You're welcome\",\",\",user)\n",
    "print()\n",
    "score1 = int(input(\"Enter total score: \"))\n",
    "print()\n",
    "if score1>=70:\n",
    "    print(user,\",\",\"your grade is A.\")\n",
    "elif score1>=60:\n",
    "    print(user,\",\",\"your grade is B.\")\n",
    "elif score1>=50:\n",
    "    print(user,\",\",\"your grade is C.\")\n",
    "elif score1>=45:\n",
    "    print(user,\",\",\"your grade is D.\")\n",
    "elif score1>=40:\n",
    "    print(user,\",\",\"your grade is E.\")\n",
    "else:\n",
    "    print(user,\",\",\"your grade is F.\")\n"
   ]
  },
  {
   "cell_type": "code",
   "execution_count": null,
   "metadata": {},
   "outputs": [],
   "source": [
    "i=1\n",
    "while i<6:\n",
    "    print i\n",
    "    if i==3:\n",
    "        break"
   ]
  },
  {
   "cell_type": "code",
   "execution_count": null,
   "metadata": {},
   "outputs": [],
   "source": [
    "#errors-index,import,name,syntax,type,value\n",
    "#anagram is rearranging letters of another word e.g final - lfian\n",
    "#palindrome is reading same 4wds & bkwds e.g rise to vote sir, madam\n",
    "#in numpy,0 is column and row is 1.\n",
    "#cumsum()adds all values:[1,2\n",
    "                        #3,4]. 1,+2=3,+3=6,+4=10.ans:1,3,6,10\n",
    "#prod()multiplies all values.1*2=2,3*4=12.2*12=24 is the ans.\n",
    "#cumprod()1,*2=2,*3=6,*4=24. ans 1,2,6,24.\n"
   ]
  },
  {
   "cell_type": "code",
   "execution_count": 1,
   "metadata": {},
   "outputs": [],
   "source": [
    "for y in range (20,2):\n",
    "    print (y)"
   ]
  },
  {
   "cell_type": "code",
   "execution_count": 9,
   "metadata": {},
   "outputs": [
    {
     "ename": "NameError",
     "evalue": "name 'dtype' is not defined",
     "output_type": "error",
     "traceback": [
      "\u001b[1;31m---------------------------------------------------------------------------\u001b[0m",
      "\u001b[1;31mNameError\u001b[0m                                 Traceback (most recent call last)",
      "Input \u001b[1;32mIn [9]\u001b[0m, in \u001b[0;36m<module>\u001b[1;34m\u001b[0m\n\u001b[0;32m      1\u001b[0m a \u001b[38;5;241m=\u001b[39m (\u001b[38;5;241m45\u001b[39m)\n\u001b[1;32m----> 2\u001b[0m \u001b[43mdtype\u001b[49m(a)\n",
      "\u001b[1;31mNameError\u001b[0m: name 'dtype' is not defined"
     ]
    }
   ],
   "source": [
    "a = (45)\n",
    "dtype(a)"
   ]
  }
 ],
 "metadata": {
  "interpreter": {
   "hash": "74ca7b820e35d7068dfcb10f30da4e6e109568fad16b408939bb90604607b557"
  },
  "kernelspec": {
   "display_name": "Python 3.10.0 64-bit",
   "language": "python",
   "name": "python3"
  },
  "language_info": {
   "codemirror_mode": {
    "name": "ipython",
    "version": 3
   },
   "file_extension": ".py",
   "mimetype": "text/x-python",
   "name": "python",
   "nbconvert_exporter": "python",
   "pygments_lexer": "ipython3",
   "version": "3.10.0"
  },
  "orig_nbformat": 4
 },
 "nbformat": 4,
 "nbformat_minor": 2
}
