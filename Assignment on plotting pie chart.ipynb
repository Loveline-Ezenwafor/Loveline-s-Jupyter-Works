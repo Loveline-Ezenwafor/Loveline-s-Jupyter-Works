{
 "cells": [
  {
   "cell_type": "code",
   "execution_count": 13,
   "metadata": {},
   "outputs": [
    {
     "data": {
      "text/html": [
       "<div>\n",
       "<style scoped>\n",
       "    .dataframe tbody tr th:only-of-type {\n",
       "        vertical-align: middle;\n",
       "    }\n",
       "\n",
       "    .dataframe tbody tr th {\n",
       "        vertical-align: top;\n",
       "    }\n",
       "\n",
       "    .dataframe thead th {\n",
       "        text-align: right;\n",
       "    }\n",
       "</style>\n",
       "<table border=\"1\" class=\"dataframe\">\n",
       "  <thead>\n",
       "    <tr style=\"text-align: right;\">\n",
       "      <th></th>\n",
       "      <th>LanguagesWorkedWith</th>\n",
       "    </tr>\n",
       "    <tr>\n",
       "      <th>Responder_id</th>\n",
       "      <th></th>\n",
       "    </tr>\n",
       "  </thead>\n",
       "  <tbody>\n",
       "    <tr>\n",
       "      <th>1</th>\n",
       "      <td>HTML/CSS;Java;JavaScript;Python</td>\n",
       "    </tr>\n",
       "    <tr>\n",
       "      <th>2</th>\n",
       "      <td>C++;HTML/CSS;Python</td>\n",
       "    </tr>\n",
       "    <tr>\n",
       "      <th>3</th>\n",
       "      <td>HTML/CSS</td>\n",
       "    </tr>\n",
       "    <tr>\n",
       "      <th>4</th>\n",
       "      <td>C;C++;C#;Python;SQL</td>\n",
       "    </tr>\n",
       "    <tr>\n",
       "      <th>5</th>\n",
       "      <td>C++;HTML/CSS;Java;JavaScript;Python;SQL;VBA</td>\n",
       "    </tr>\n",
       "    <tr>\n",
       "      <th>...</th>\n",
       "      <td>...</td>\n",
       "    </tr>\n",
       "    <tr>\n",
       "      <th>88182</th>\n",
       "      <td>HTML/CSS;Java;JavaScript</td>\n",
       "    </tr>\n",
       "    <tr>\n",
       "      <th>88212</th>\n",
       "      <td>HTML/CSS;JavaScript;Python</td>\n",
       "    </tr>\n",
       "    <tr>\n",
       "      <th>88282</th>\n",
       "      <td>Bash/Shell/PowerShell;Go;HTML/CSS;JavaScript;W...</td>\n",
       "    </tr>\n",
       "    <tr>\n",
       "      <th>88377</th>\n",
       "      <td>HTML/CSS;JavaScript;Other(s):</td>\n",
       "    </tr>\n",
       "    <tr>\n",
       "      <th>88863</th>\n",
       "      <td>Bash/Shell/PowerShell;HTML/CSS;Java;JavaScript...</td>\n",
       "    </tr>\n",
       "  </tbody>\n",
       "</table>\n",
       "<p>87569 rows × 1 columns</p>\n",
       "</div>"
      ],
      "text/plain": [
       "                                            LanguagesWorkedWith\n",
       "Responder_id                                                   \n",
       "1                               HTML/CSS;Java;JavaScript;Python\n",
       "2                                           C++;HTML/CSS;Python\n",
       "3                                                      HTML/CSS\n",
       "4                                           C;C++;C#;Python;SQL\n",
       "5                   C++;HTML/CSS;Java;JavaScript;Python;SQL;VBA\n",
       "...                                                         ...\n",
       "88182                                  HTML/CSS;Java;JavaScript\n",
       "88212                                HTML/CSS;JavaScript;Python\n",
       "88282         Bash/Shell/PowerShell;Go;HTML/CSS;JavaScript;W...\n",
       "88377                             HTML/CSS;JavaScript;Other(s):\n",
       "88863         Bash/Shell/PowerShell;HTML/CSS;Java;JavaScript...\n",
       "\n",
       "[87569 rows x 1 columns]"
      ]
     },
     "execution_count": 13,
     "metadata": {},
     "output_type": "execute_result"
    }
   ],
   "source": [
    "import pandas as pd\n",
    "import matplotlib.pyplot as plt\n",
    "\n",
    "\n",
    "love = pd.read_csv(r\"C:\\Users\\Loveline\\Desktop\\data (lang).csv\", index_col=\"Responder_id\")\n",
    "love"
   ]
  },
  {
   "cell_type": "code",
   "execution_count": 14,
   "metadata": {},
   "outputs": [],
   "source": [
    "from collections import Counter"
   ]
  },
  {
   "cell_type": "code",
   "execution_count": 15,
   "metadata": {},
   "outputs": [
    {
     "data": {
      "text/html": [
       "<div>\n",
       "<style scoped>\n",
       "    .dataframe tbody tr th:only-of-type {\n",
       "        vertical-align: middle;\n",
       "    }\n",
       "\n",
       "    .dataframe tbody tr th {\n",
       "        vertical-align: top;\n",
       "    }\n",
       "\n",
       "    .dataframe thead th {\n",
       "        text-align: right;\n",
       "    }\n",
       "</style>\n",
       "<table border=\"1\" class=\"dataframe\">\n",
       "  <thead>\n",
       "    <tr style=\"text-align: right;\">\n",
       "      <th></th>\n",
       "      <th>LanguagesWorkedWith</th>\n",
       "    </tr>\n",
       "    <tr>\n",
       "      <th>Responder_id</th>\n",
       "      <th></th>\n",
       "    </tr>\n",
       "  </thead>\n",
       "  <tbody>\n",
       "    <tr>\n",
       "      <th>1</th>\n",
       "      <td>HTML/CSS;Java;JavaScript;Python</td>\n",
       "    </tr>\n",
       "    <tr>\n",
       "      <th>2</th>\n",
       "      <td>C++;HTML/CSS;Python</td>\n",
       "    </tr>\n",
       "    <tr>\n",
       "      <th>3</th>\n",
       "      <td>HTML/CSS</td>\n",
       "    </tr>\n",
       "    <tr>\n",
       "      <th>4</th>\n",
       "      <td>C;C++;C#;Python;SQL</td>\n",
       "    </tr>\n",
       "    <tr>\n",
       "      <th>5</th>\n",
       "      <td>C++;HTML/CSS;Java;JavaScript;Python;SQL;VBA</td>\n",
       "    </tr>\n",
       "  </tbody>\n",
       "</table>\n",
       "</div>"
      ],
      "text/plain": [
       "                                      LanguagesWorkedWith\n",
       "Responder_id                                             \n",
       "1                         HTML/CSS;Java;JavaScript;Python\n",
       "2                                     C++;HTML/CSS;Python\n",
       "3                                                HTML/CSS\n",
       "4                                     C;C++;C#;Python;SQL\n",
       "5             C++;HTML/CSS;Java;JavaScript;Python;SQL;VBA"
      ]
     },
     "execution_count": 15,
     "metadata": {},
     "output_type": "execute_result"
    }
   ],
   "source": [
    "love.head()\n",
    "   \n",
    "\n",
    "\n"
   ]
  },
  {
   "cell_type": "code",
   "execution_count": 16,
   "metadata": {},
   "outputs": [
    {
     "data": {
      "text/plain": [
       "Counter({'HTML/CSS': 55466,\n",
       "         'Java': 35917,\n",
       "         'JavaScript': 59219,\n",
       "         'Python': 36443,\n",
       "         'C++': 20524,\n",
       "         'C': 18017,\n",
       "         'C#': 27097,\n",
       "         'SQL': 47544,\n",
       "         'VBA': 4781,\n",
       "         'R': 5048,\n",
       "         'Bash/Shell/PowerShell': 31991,\n",
       "         'Ruby': 7331,\n",
       "         'Rust': 2794,\n",
       "         'TypeScript': 18523,\n",
       "         'WebAssembly': 1015,\n",
       "         'Other(s):': 7920,\n",
       "         'Go': 7201,\n",
       "         'PHP': 23030,\n",
       "         'Assembly': 5833,\n",
       "         'Kotlin': 5620,\n",
       "         'Swift': 5744,\n",
       "         'Objective-C': 4191,\n",
       "         'Elixir': 1260,\n",
       "         'Erlang': 777,\n",
       "         'Clojure': 1254,\n",
       "         'F#': 973,\n",
       "         'Scala': 3309,\n",
       "         'Dart': 1683})"
      ]
     },
     "execution_count": 16,
     "metadata": {},
     "output_type": "execute_result"
    }
   ],
   "source": [
    "loveme = Counter()\n",
    "for rows in love[\"LanguagesWorkedWith\"]:\n",
    "    loveme.update(rows.split(\";\"))\n",
    "loveme"
   ]
  },
  {
   "cell_type": "code",
   "execution_count": 23,
   "metadata": {},
   "outputs": [],
   "source": [
    "top5 = loveme.most_common(5)"
   ]
  },
  {
   "cell_type": "code",
   "execution_count": 24,
   "metadata": {},
   "outputs": [
    {
     "name": "stdout",
     "output_type": "stream",
     "text": [
      "('JavaScript', 59219)\n",
      "('HTML/CSS', 55466)\n",
      "('SQL', 47544)\n",
      "('Python', 36443)\n",
      "('Java', 35917)\n"
     ]
    }
   ],
   "source": [
    "for details in top5:\n",
    "    print(details)"
   ]
  },
  {
   "cell_type": "code",
   "execution_count": 25,
   "metadata": {},
   "outputs": [],
   "source": [
    "lang = []\n",
    "users = []\n",
    "\n",
    "for details in top5:\n",
    "    lang.append(details[0])\n",
    "    users.append(details[1])\n",
    "users.reverse()\n",
    "lang.reverse()"
   ]
  },
  {
   "cell_type": "code",
   "execution_count": 26,
   "metadata": {},
   "outputs": [],
   "source": [
    "guru = {\n",
    "    \"Languages\":lang,\n",
    "    \"Number of users\":users   \n",
    "    }\n",
    "lovee = pd.DataFrame(guru)\n",
    "#plt.title(\"Top 5 Programming Language\",fontfamily=\"algerian\",fontweight=\"bold\")\n",
    "#plt.xlabel(\"Number of users\",fontweight=\"bold\")\n",
    "#plt.grid(which=\"major\")\n",
    "\n",
    "\n",
    "    "
   ]
  },
  {
   "cell_type": "code",
   "execution_count": 27,
   "metadata": {},
   "outputs": [
    {
     "data": {
      "text/html": [
       "<div>\n",
       "<style scoped>\n",
       "    .dataframe tbody tr th:only-of-type {\n",
       "        vertical-align: middle;\n",
       "    }\n",
       "\n",
       "    .dataframe tbody tr th {\n",
       "        vertical-align: top;\n",
       "    }\n",
       "\n",
       "    .dataframe thead th {\n",
       "        text-align: right;\n",
       "    }\n",
       "</style>\n",
       "<table border=\"1\" class=\"dataframe\">\n",
       "  <thead>\n",
       "    <tr style=\"text-align: right;\">\n",
       "      <th></th>\n",
       "      <th>Languages</th>\n",
       "      <th>Number of users</th>\n",
       "    </tr>\n",
       "  </thead>\n",
       "  <tbody>\n",
       "    <tr>\n",
       "      <th>0</th>\n",
       "      <td>Java</td>\n",
       "      <td>35917</td>\n",
       "    </tr>\n",
       "    <tr>\n",
       "      <th>1</th>\n",
       "      <td>Python</td>\n",
       "      <td>36443</td>\n",
       "    </tr>\n",
       "    <tr>\n",
       "      <th>2</th>\n",
       "      <td>SQL</td>\n",
       "      <td>47544</td>\n",
       "    </tr>\n",
       "    <tr>\n",
       "      <th>3</th>\n",
       "      <td>HTML/CSS</td>\n",
       "      <td>55466</td>\n",
       "    </tr>\n",
       "    <tr>\n",
       "      <th>4</th>\n",
       "      <td>JavaScript</td>\n",
       "      <td>59219</td>\n",
       "    </tr>\n",
       "  </tbody>\n",
       "</table>\n",
       "</div>"
      ],
      "text/plain": [
       "    Languages  Number of users\n",
       "0        Java            35917\n",
       "1      Python            36443\n",
       "2         SQL            47544\n",
       "3    HTML/CSS            55466\n",
       "4  JavaScript            59219"
      ]
     },
     "execution_count": 27,
     "metadata": {},
     "output_type": "execute_result"
    }
   ],
   "source": [
    "lovee"
   ]
  },
  {
   "cell_type": "code",
   "execution_count": 28,
   "metadata": {},
   "outputs": [],
   "source": [
    "lovee.set_index([\"Languages\"],inplace=True)"
   ]
  },
  {
   "cell_type": "code",
   "execution_count": 31,
   "metadata": {},
   "outputs": [
    {
     "data": {
      "text/plain": [
       "<matplotlib.legend.Legend at 0x281402957e0>"
      ]
     },
     "execution_count": 31,
     "metadata": {},
     "output_type": "execute_result"
    },
    {
     "data": {
      "image/png": "[encoded data removed]",
      "text/plain": [
       "<Figure size 432x288 with 1 Axes>"
      ]
     },
     "metadata": {},
     "output_type": "display_data"
    }
   ],
   "source": [
    "plt.pie(users, labels=lang, wedgeprops={\"edgecolor\":\"k\", \"linewidth\":1.5},shadow=True)\n",
    "plt.title(\"Top 5 programming Languages\", fontweight=\"bold\",loc=\"center\")\n",
    "plt.legend(loc=(0,-0.4), title=\"key\")"
   ]
  },
  {
   "cell_type": "code",
   "execution_count": null,
   "metadata": {},
   "outputs": [],
   "source": []
  }
 ],
 "metadata": {
  "interpreter": {
   "hash": "74ca7b820e35d7068dfcb10f30da4e6e109568fad16b408939bb90604607b557"
  },
  "kernelspec": {
   "display_name": "Python 3.10.0 64-bit",
   "language": "python",
   "name": "python3"
  },
  "language_info": {
   "codemirror_mode": {
    "name": "ipython",
    "version": 3
   },
   "file_extension": ".py",
   "mimetype": "text/x-python",
   "name": "python",
   "nbconvert_exporter": "python",
   "pygments_lexer": "ipython3",
   "version": "3.10.0"
  },
  "orig_nbformat": 4
 },
 "nbformat": 4,
 "nbformat_minor": 2
}
