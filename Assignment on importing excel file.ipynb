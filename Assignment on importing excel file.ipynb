{
 "cells": [
  {
   "cell_type": "code",
   "execution_count": 1,
   "metadata": {},
   "outputs": [
    {
     "data": {
      "text/html": [
       "<div>\n",
       "<style scoped>\n",
       "    .dataframe tbody tr th:only-of-type {\n",
       "        vertical-align: middle;\n",
       "    }\n",
       "\n",
       "    .dataframe tbody tr th {\n",
       "        vertical-align: top;\n",
       "    }\n",
       "\n",
       "    .dataframe thead th {\n",
       "        text-align: right;\n",
       "    }\n",
       "</style>\n",
       "<table border=\"1\" class=\"dataframe\">\n",
       "  <thead>\n",
       "    <tr style=\"text-align: right;\">\n",
       "      <th></th>\n",
       "      <th>Stock</th>\n",
       "      <th>Month</th>\n",
       "      <th>Value</th>\n",
       "    </tr>\n",
       "  </thead>\n",
       "  <tbody>\n",
       "    <tr>\n",
       "      <th>0</th>\n",
       "      <td>MSFT</td>\n",
       "      <td>Jan</td>\n",
       "      <td>103.60</td>\n",
       "    </tr>\n",
       "    <tr>\n",
       "      <th>1</th>\n",
       "      <td>MSFT</td>\n",
       "      <td>Feb</td>\n",
       "      <td>106.90</td>\n",
       "    </tr>\n",
       "    <tr>\n",
       "      <th>2</th>\n",
       "      <td>MSFT</td>\n",
       "      <td>Mar</td>\n",
       "      <td>115.91</td>\n",
       "    </tr>\n",
       "    <tr>\n",
       "      <th>3</th>\n",
       "      <td>MSFT</td>\n",
       "      <td>Apr</td>\n",
       "      <td>121.05</td>\n",
       "    </tr>\n",
       "    <tr>\n",
       "      <th>4</th>\n",
       "      <td>MSFT</td>\n",
       "      <td>May</td>\n",
       "      <td>126.02</td>\n",
       "    </tr>\n",
       "    <tr>\n",
       "      <th>5</th>\n",
       "      <td>WM</td>\n",
       "      <td>Jan</td>\n",
       "      <td>92.70</td>\n",
       "    </tr>\n",
       "    <tr>\n",
       "      <th>6</th>\n",
       "      <td>WM</td>\n",
       "      <td>Feb</td>\n",
       "      <td>99.06</td>\n",
       "    </tr>\n",
       "    <tr>\n",
       "      <th>7</th>\n",
       "      <td>WM</td>\n",
       "      <td>Mar</td>\n",
       "      <td>100.97</td>\n",
       "    </tr>\n",
       "    <tr>\n",
       "      <th>8</th>\n",
       "      <td>WM</td>\n",
       "      <td>Apr</td>\n",
       "      <td>104.44</td>\n",
       "    </tr>\n",
       "    <tr>\n",
       "      <th>9</th>\n",
       "      <td>WM</td>\n",
       "      <td>May</td>\n",
       "      <td>106.26</td>\n",
       "    </tr>\n",
       "    <tr>\n",
       "      <th>10</th>\n",
       "      <td>LMT</td>\n",
       "      <td>Jan</td>\n",
       "      <td>276.00</td>\n",
       "    </tr>\n",
       "    <tr>\n",
       "      <th>11</th>\n",
       "      <td>LMT</td>\n",
       "      <td>Feb</td>\n",
       "      <td>307.23</td>\n",
       "    </tr>\n",
       "    <tr>\n",
       "      <th>12</th>\n",
       "      <td>LMT</td>\n",
       "      <td>Mar</td>\n",
       "      <td>296.25</td>\n",
       "    </tr>\n",
       "    <tr>\n",
       "      <th>13</th>\n",
       "      <td>LMT</td>\n",
       "      <td>Apr</td>\n",
       "      <td>308.71</td>\n",
       "    </tr>\n",
       "    <tr>\n",
       "      <th>14</th>\n",
       "      <td>LMT</td>\n",
       "      <td>May</td>\n",
       "      <td>336.17</td>\n",
       "    </tr>\n",
       "  </tbody>\n",
       "</table>\n",
       "</div>"
      ],
      "text/plain": [
       "   Stock Month   Value\n",
       "0   MSFT   Jan  103.60\n",
       "1   MSFT   Feb  106.90\n",
       "2   MSFT   Mar  115.91\n",
       "3   MSFT   Apr  121.05\n",
       "4   MSFT   May  126.02\n",
       "5     WM   Jan   92.70\n",
       "6     WM   Feb   99.06\n",
       "7     WM   Mar  100.97\n",
       "8     WM   Apr  104.44\n",
       "9     WM   May  106.26\n",
       "10   LMT   Jan  276.00\n",
       "11   LMT   Feb  307.23\n",
       "12   LMT   Mar  296.25\n",
       "13   LMT   Apr  308.71\n",
       "14   LMT   May  336.17"
      ]
     },
     "execution_count": 1,
     "metadata": {},
     "output_type": "execute_result"
    }
   ],
   "source": [
    "import pandas as pd\n",
    "\n",
    "Love = r\"C:\\Users\\Loveline\\Documents\\DA_materials\\stocks101.xlsx\"\n",
    "Loveline = pd.read_excel(Love)\n",
    "Loveline"
   ]
  },
  {
   "cell_type": "code",
   "execution_count": null,
   "metadata": {},
   "outputs": [],
   "source": [
    "Loveline [\"S/N\"] = [1,2,3,4,5,6,7,8,9,10,11,12,13,14,15]\n",
    "Loveline"
   ]
  },
  {
   "cell_type": "code",
   "execution_count": null,
   "metadata": {},
   "outputs": [],
   "source": [
    "Loveline.set_index(\"S/N\", inplace=True)\n",
    "Loveline "
   ]
  },
  {
   "cell_type": "code",
   "execution_count": null,
   "metadata": {},
   "outputs": [],
   "source": [
    "Dt = pd.DataFrame({'Minimum Value': (\"Month\"[\"Value\"])}),\n",
    "Dt2 = pd.DataFrame({'Maximum Value': (\"Month\"[\"Value\"])})\n",
    "Dataset = [Dt, Dt2]\n",
    "result = pd.concat(Dataset)\n",
    "result "
   ]
  },
  {
   "cell_type": "code",
   "execution_count": null,
   "metadata": {},
   "outputs": [],
   "source": [
    "Loveline.groupby(\"Month\")[\"Value\"].max()"
   ]
  },
  {
   "cell_type": "code",
   "execution_count": null,
   "metadata": {},
   "outputs": [],
   "source": [
    "Loveline.groupby(\"Month\")[\"Value\"].min()"
   ]
  },
  {
   "cell_type": "code",
   "execution_count": null,
   "metadata": {},
   "outputs": [],
   "source": [
    "Dt = pd.DataFrame({'Minimum Value': (\"Month\"[\"Value\"])}),\n",
    "Dt2 = pd.DataFrame({'Maximum Value': (\"Month\"[\"Value\"])})\n",
    "Dataset = [Dt, Dt2]\n",
    "result = pd.concat(Dataset)\n",
    "result "
   ]
  },
  {
   "cell_type": "code",
   "execution_count": null,
   "metadata": {},
   "outputs": [],
   "source": [
    "Loveline.groupby(\"Stock\")[\"Value\"].max()"
   ]
  },
  {
   "cell_type": "code",
   "execution_count": null,
   "metadata": {},
   "outputs": [],
   "source": [
    "Loveline.groupby(\"Stock\")[\"Value\"].min()"
   ]
  }
 ],
 "metadata": {
  "interpreter": {
   "hash": "4a2ff0d406259f33a4f41f5f86ce6ab5fdcd2992592dbd420e0be3b67fceb834"
  },
  "kernelspec": {
   "display_name": "Python 3.10.0 64-bit",
   "language": "python",
   "name": "python3"
  },
  "language_info": {
   "codemirror_mode": {
    "name": "ipython",
    "version": 3
   },
   "file_extension": ".py",
   "mimetype": "text/x-python",
   "name": "python",
   "nbconvert_exporter": "python",
   "pygments_lexer": "ipython3",
   "version": "3.10.0"
  },
  "orig_nbformat": 4
 },
 "nbformat": 4,
 "nbformat_minor": 2
}
