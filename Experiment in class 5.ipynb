{
 "cells": [
  {
   "cell_type": "code",
   "execution_count": null,
   "metadata": {},
   "outputs": [],
   "source": [
    "import matplotlib.pyplot as plt \n",
    "import pandas as pd\n",
    "#from matplotlib import pyplot as plt\n"
   ]
  },
  {
   "cell_type": "code",
   "execution_count": null,
   "metadata": {},
   "outputs": [],
   "source": [
    "%matplotlib inline"
   ]
  },
  {
   "cell_type": "code",
   "execution_count": null,
   "metadata": {},
   "outputs": [],
   "source": [
    "s = pd.Series([50,60,90,80,50], index=[\"Mariam\",\"Emmanuel\",\"Ajuzie\",\"Bunmi\",\"Quadri\"])\n",
    "s.plot(kind=\"bar\")\n",
    "plt.savefig(\"plot.png\")\n",
    "plt.show()\n"
   ]
  },
  {
   "cell_type": "code",
   "execution_count": null,
   "metadata": {},
   "outputs": [],
   "source": [
    "s = pd.Series([50,60,90,80,50], index=[\"Mariam\",\"Emmanuel\",\"Ajuzie\",\"Bunmi\",\"Quadri\"])\n",
    "s.plot(figsize=(10,10))\n",
    "plt.savefig(\"plot.png\")"
   ]
  },
  {
   "cell_type": "code",
   "execution_count": null,
   "metadata": {},
   "outputs": [],
   "source": [
    "s = pd.Series([50,60,90,80,50], index=[\"Mariam\",\"Emmanuel\",\"Ajuzie\",\"Bunmi\",\"Quadri\"])\n",
    "s.plot(kind=\"bar\", figsize=(10,10))\n",
    "plt.savefig(\"plot.png\")"
   ]
  },
  {
   "cell_type": "code",
   "execution_count": null,
   "metadata": {},
   "outputs": [],
   "source": [
    "a = pd.DataFrame({\n",
    "    \"BLT\": [50,60,90,80,50],\n",
    "    \"ELT\": [70,80,100,100,70]\n",
    "}, index=[\"Mariam\",\"Emmanuel\",\"Ajuzie\",\"Bunmi\",\"Quadri\"])"
   ]
  },
  {
   "cell_type": "code",
   "execution_count": null,
   "metadata": {},
   "outputs": [],
   "source": [
    "a.plot(kind=\"bar\",stacked=True)"
   ]
  },
  {
   "cell_type": "code",
   "execution_count": null,
   "metadata": {},
   "outputs": [],
   "source": [
    "a = pd.DataFrame({\n",
    "    \"BLT\": [50,60,90,80,150,150],\n",
    "    \"ELT\": [70,80,100,100,70,100]\n",
    "}, index=[\"Mariam\",\"Emmanuel\",\"Ajuzie\",\"Bola\",\"Bunmi\",\"Quadri\"])"
   ]
  },
  {
   "cell_type": "code",
   "execution_count": null,
   "metadata": {},
   "outputs": [],
   "source": [
    "a.plot(kind=\"box\",stacked=True)"
   ]
  },
  {
   "cell_type": "code",
   "execution_count": null,
   "metadata": {},
   "outputs": [],
   "source": [
    "a = pd.DataFrame({\n",
    "    \"BLT\": [50,60,90,80,150,-150],\n",
    "    \"ELT\": [70,80,100,100,50,70]\n",
    "}, index=[\"Mariam\",\"Emmanuel\",\"Ajuzie\",\"Nath\",\"Bunmi\",\"Quadri\"])"
   ]
  },
  {
   "cell_type": "code",
   "execution_count": null,
   "metadata": {},
   "outputs": [],
   "source": [
    "a.plot(kind=\"box\",stacked=True)"
   ]
  },
  {
   "cell_type": "code",
   "execution_count": null,
   "metadata": {},
   "outputs": [],
   "source": [
    "filex = r\"C:\\Users\\Janet\\Documents\\DA_materials\\ca-covid.csv\"\n",
    "df = pd.read_csv(filex)\n",
    "df.drop('state', axis=1, inplace=True)\n",
    "df['date'] = pd.to_datetime(df['date'], format=\"%d.%m.%y\")\n",
    "df[\"month\"] = df[\"date\"].dt.month\n",
    "df.set_index('date',inplace=True)\n",
    "\n",
    "df[df[\"month\"]==12][\"cases\"].plot()\n"
   ]
  },
  {
   "cell_type": "code",
   "execution_count": null,
   "metadata": {},
   "outputs": [],
   "source": [
    "filex = r\"C:\\Users\\Janet\\Documents\\DA_materials\\ca-covid.csv\"\n",
    "df = pd.read_csv(filex)\n",
    "df.drop('state', axis=1, inplace=True)\n",
    "df['date'] = pd.to_datetime(df['date'], format=\"%d.%m.%y\")\n",
    "df[\"month\"] = df[\"date\"].dt.month\n",
    "df.set_index('date',inplace=True)\n",
    "\n",
    "df[df[\"month\"]==12][\"cases\"].plot(kind=\"bar\")"
   ]
  },
  {
   "cell_type": "code",
   "execution_count": null,
   "metadata": {},
   "outputs": [],
   "source": [
    "df[df[\"month\"]==12]"
   ]
  },
  {
   "cell_type": "code",
   "execution_count": null,
   "metadata": {},
   "outputs": [],
   "source": [
    "df"
   ]
  },
  {
   "cell_type": "code",
   "execution_count": null,
   "metadata": {},
   "outputs": [],
   "source": [
    "filex = r\"C:\\Users\\Janet\\Documents\\DA_materials\\ca-covid.csv\"\n",
    "df = pd.read_csv(filex)\n",
    "df.drop('state', axis=1, inplace=True)\n",
    "df['date'] = pd.to_datetime(df['date'], format=\"%d.%m.%y\")\n",
    "df[\"month\"] = df[\"date\"].dt.month\n",
    "df.set_index('date',inplace=True)\n",
    "\n",
    "df[df[\"month\"]==12][\"deaths\"].plot()"
   ]
  },
  {
   "cell_type": "code",
   "execution_count": null,
   "metadata": {},
   "outputs": [],
   "source": [
    "filex = r\"C:\\Users\\Janet\\Documents\\DA_materials\\ca-covid.csv\"\n",
    "df = pd.read_csv(filex)\n",
    "df.drop('state', axis=1, inplace=True)\n",
    "df['date'] = pd.to_datetime(df['date'], format=\"%d.%m.%y\")\n",
    "df[\"month\"] = df[\"date\"].dt.month\n",
    "df.set_index('date',inplace=True)\n",
    "\n",
    "(df[df['month']==12])[['cases','deaths']].plot()\n",
    "\n",
    "\n",
    "\n"
   ]
  },
  {
   "cell_type": "code",
   "execution_count": null,
   "metadata": {},
   "outputs": [],
   "source": [
    "df[df['month']==12].plot()"
   ]
  },
  {
   "cell_type": "code",
   "execution_count": null,
   "metadata": {},
   "outputs": [],
   "source": [
    "df[df['month']==12]"
   ]
  },
  {
   "cell_type": "code",
   "execution_count": null,
   "metadata": {},
   "outputs": [],
   "source": [
    "df.groupby(\"month\")[\"cases\"].sum()"
   ]
  },
  {
   "cell_type": "code",
   "execution_count": null,
   "metadata": {},
   "outputs": [],
   "source": [
    "df.groupby(\"month\")[\"cases\"].sum().plot(kind=\"bar\")\n",
    "plt.savefig(\"plot.png\")"
   ]
  },
  {
   "cell_type": "code",
   "execution_count": null,
   "metadata": {},
   "outputs": [],
   "source": [
    "df.groupby(\"month\")[\"cases\"].sum().plot(kind=\"bar\", figsize=(10,8))"
   ]
  },
  {
   "cell_type": "code",
   "execution_count": null,
   "metadata": {},
   "outputs": [],
   "source": [
    "df.groupby(\"month\")[\"cases\"].sum().plot(kind=\"bar\", figsize=(10,8), grid=True)"
   ]
  },
  {
   "cell_type": "code",
   "execution_count": null,
   "metadata": {},
   "outputs": [],
   "source": [
    "df.groupby(\"month\")[\"deaths\"].sum().plot(kind=\"bar\")\n",
    "plt.savefig(\"plot.png\")"
   ]
  },
  {
   "cell_type": "code",
   "execution_count": null,
   "metadata": {},
   "outputs": [],
   "source": [
    "df.groupby(\"month\")[[\"cases\",\"deaths\"]].sum().plot(kind=\"bar\",grid=True)"
   ]
  },
  {
   "cell_type": "code",
   "execution_count": null,
   "metadata": {},
   "outputs": [],
   "source": []
  },
  {
   "cell_type": "code",
   "execution_count": null,
   "metadata": {},
   "outputs": [],
   "source": [
    "ab = pd.DataFrame({\n",
    "    \"QTY\": [50,60,90,80,50],\n",
    "    \"Milk\": [12,15,18,20,34]\n",
    "}, index=[\"Mary\",\"Emma\",\"Ajunwa\",\"Bola\",\"Queen\"])\n",
    "ab"
   ]
  },
  {
   "cell_type": "code",
   "execution_count": null,
   "metadata": {},
   "outputs": [],
   "source": [
    "ab.groupby(\"QTY\")[\"Milk\"].sum().plot(kind=\"bar\")"
   ]
  },
  {
   "cell_type": "code",
   "execution_count": null,
   "metadata": {},
   "outputs": [],
   "source": [
    "ab.plot(kind=\"bar\",figsize= [8,8,],grid=False,stacked=False)"
   ]
  },
  {
   "cell_type": "code",
   "execution_count": null,
   "metadata": {},
   "outputs": [],
   "source": [
    "ab.plot(kind=\"barh\",figsize= [8,8,],grid=False,stacked=False,xlabel=\"Milk\",ylabel=\"QTY\")"
   ]
  },
  {
   "cell_type": "code",
   "execution_count": null,
   "metadata": {},
   "outputs": [],
   "source": [
    "plt.xlabel(\"Milk\")\n",
    "plt.ylabel(\"QTY\")\n",
    "ab.plot(kind=\"bar\",figsize= [8,8,],grid=False,stacked=False,xlabel=\"Milk\",ylabel=\"QTY\")"
   ]
  },
  {
   "cell_type": "code",
   "execution_count": null,
   "metadata": {},
   "outputs": [],
   "source": [
    "plt.xlabel(\"Milk\")\n",
    "plt.ylabel(\"QTY\")\n",
    "ab.plot(kind=\"box\",figsize= [8,8,],grid=False,stacked=False,xlabel=\"Milk\",ylabel=\"QTY\")"
   ]
  },
  {
   "cell_type": "code",
   "execution_count": null,
   "metadata": {},
   "outputs": [],
   "source": [
    "a = pd.DataFrame({\n",
    "    \"BLT\": [50,60,90,80,50],\n",
    "    \"ELT\": [70,80,100,100,70]\n",
    "}, index=[\"Mariam\",\"Emmanuel\",\"Ajuzie\",\"Bunmi\",\"Quadri\"])"
   ]
  },
  {
   "cell_type": "code",
   "execution_count": null,
   "metadata": {},
   "outputs": [],
   "source": [
    "a.plot(kind=\"box\",stacked=True)"
   ]
  },
  {
   "cell_type": "code",
   "execution_count": null,
   "metadata": {},
   "outputs": [],
   "source": [
    "ab.describe()"
   ]
  },
  {
   "cell_type": "code",
   "execution_count": null,
   "metadata": {},
   "outputs": [],
   "source": [
    "df[df[\"month\"]==6][\"cases\"].plot(kind=\"box\")"
   ]
  },
  {
   "cell_type": "code",
   "execution_count": null,
   "metadata": {},
   "outputs": [],
   "source": [
    "df[df[\"month\"]==6][\"cases\"].plot(kind=\"hist\")"
   ]
  },
  {
   "cell_type": "code",
   "execution_count": null,
   "metadata": {},
   "outputs": [],
   "source": [
    "b =df[df[\"month\"]==6]\n",
    "b2 = b[(b[\"cases\"]>2000) & (b[\"cases\"]<2900)]\n",
    "#b[b[\"cases\"]==b2]\n",
    "b2[\"cases\"].count()"
   ]
  },
  {
   "cell_type": "code",
   "execution_count": null,
   "metadata": {},
   "outputs": [],
   "source": [
    "b =df[df[\"month\"]==6]\n",
    "b2 = b[(b[\"cases\"]>2000)]\n",
    "#b[b[\"cases\"]==b2]\n",
    "b2[\"cases\"].count()"
   ]
  },
  {
   "cell_type": "code",
   "execution_count": 163,
   "metadata": {},
   "outputs": [
    {
     "data": {
      "text/html": [
       "<div>\n",
       "<style scoped>\n",
       "    .dataframe tbody tr th:only-of-type {\n",
       "        vertical-align: middle;\n",
       "    }\n",
       "\n",
       "    .dataframe tbody tr th {\n",
       "        vertical-align: top;\n",
       "    }\n",
       "\n",
       "    .dataframe thead th {\n",
       "        text-align: right;\n",
       "    }\n",
       "</style>\n",
       "<table border=\"1\" class=\"dataframe\">\n",
       "  <thead>\n",
       "    <tr style=\"text-align: right;\">\n",
       "      <th></th>\n",
       "      <th>cases</th>\n",
       "      <th>deaths</th>\n",
       "      <th>month</th>\n",
       "    </tr>\n",
       "    <tr>\n",
       "      <th>date</th>\n",
       "      <th></th>\n",
       "      <th></th>\n",
       "      <th></th>\n",
       "    </tr>\n",
       "  </thead>\n",
       "  <tbody>\n",
       "    <tr>\n",
       "      <th>2020-06-05</th>\n",
       "      <td>3593.0</td>\n",
       "      <td>66.0</td>\n",
       "      <td>6.0</td>\n",
       "    </tr>\n",
       "    <tr>\n",
       "      <th>2020-06-11</th>\n",
       "      <td>3570.0</td>\n",
       "      <td>72.0</td>\n",
       "      <td>6.0</td>\n",
       "    </tr>\n",
       "    <tr>\n",
       "      <th>2020-06-12</th>\n",
       "      <td>3576.0</td>\n",
       "      <td>45.0</td>\n",
       "      <td>6.0</td>\n",
       "    </tr>\n",
       "    <tr>\n",
       "      <th>2020-06-13</th>\n",
       "      <td>3149.0</td>\n",
       "      <td>73.0</td>\n",
       "      <td>6.0</td>\n",
       "    </tr>\n",
       "    <tr>\n",
       "      <th>2020-06-16</th>\n",
       "      <td>3469.0</td>\n",
       "      <td>82.0</td>\n",
       "      <td>6.0</td>\n",
       "    </tr>\n",
       "    <tr>\n",
       "      <th>2020-06-17</th>\n",
       "      <td>4250.0</td>\n",
       "      <td>81.0</td>\n",
       "      <td>6.0</td>\n",
       "    </tr>\n",
       "    <tr>\n",
       "      <th>2020-06-18</th>\n",
       "      <td>3754.0</td>\n",
       "      <td>76.0</td>\n",
       "      <td>6.0</td>\n",
       "    </tr>\n",
       "    <tr>\n",
       "      <th>2020-06-19</th>\n",
       "      <td>3708.0</td>\n",
       "      <td>66.0</td>\n",
       "      <td>6.0</td>\n",
       "    </tr>\n",
       "    <tr>\n",
       "      <th>2020-06-20</th>\n",
       "      <td>4011.0</td>\n",
       "      <td>70.0</td>\n",
       "      <td>6.0</td>\n",
       "    </tr>\n",
       "    <tr>\n",
       "      <th>2020-06-21</th>\n",
       "      <td>3953.0</td>\n",
       "      <td>22.0</td>\n",
       "      <td>6.0</td>\n",
       "    </tr>\n",
       "    <tr>\n",
       "      <th>2020-06-22</th>\n",
       "      <td>5813.0</td>\n",
       "      <td>44.0</td>\n",
       "      <td>6.0</td>\n",
       "    </tr>\n",
       "    <tr>\n",
       "      <th>2020-06-23</th>\n",
       "      <td>6419.0</td>\n",
       "      <td>76.0</td>\n",
       "      <td>6.0</td>\n",
       "    </tr>\n",
       "    <tr>\n",
       "      <th>2020-06-24</th>\n",
       "      <td>4850.0</td>\n",
       "      <td>91.0</td>\n",
       "      <td>6.0</td>\n",
       "    </tr>\n",
       "    <tr>\n",
       "      <th>2020-06-25</th>\n",
       "      <td>5524.0</td>\n",
       "      <td>82.0</td>\n",
       "      <td>6.0</td>\n",
       "    </tr>\n",
       "    <tr>\n",
       "      <th>2020-06-26</th>\n",
       "      <td>5614.0</td>\n",
       "      <td>62.0</td>\n",
       "      <td>6.0</td>\n",
       "    </tr>\n",
       "    <tr>\n",
       "      <th>2020-06-27</th>\n",
       "      <td>4426.0</td>\n",
       "      <td>30.0</td>\n",
       "      <td>6.0</td>\n",
       "    </tr>\n",
       "    <tr>\n",
       "      <th>2020-06-28</th>\n",
       "      <td>5502.0</td>\n",
       "      <td>35.0</td>\n",
       "      <td>6.0</td>\n",
       "    </tr>\n",
       "    <tr>\n",
       "      <th>2020-06-29</th>\n",
       "      <td>7040.0</td>\n",
       "      <td>42.0</td>\n",
       "      <td>6.0</td>\n",
       "    </tr>\n",
       "    <tr>\n",
       "      <th>2020-06-30</th>\n",
       "      <td>8158.0</td>\n",
       "      <td>104.0</td>\n",
       "      <td>6.0</td>\n",
       "    </tr>\n",
       "  </tbody>\n",
       "</table>\n",
       "</div>"
      ],
      "text/plain": [
       "             cases  deaths  month\n",
       "date                             \n",
       "2020-06-05  3593.0    66.0    6.0\n",
       "2020-06-11  3570.0    72.0    6.0\n",
       "2020-06-12  3576.0    45.0    6.0\n",
       "2020-06-13  3149.0    73.0    6.0\n",
       "2020-06-16  3469.0    82.0    6.0\n",
       "2020-06-17  4250.0    81.0    6.0\n",
       "2020-06-18  3754.0    76.0    6.0\n",
       "2020-06-19  3708.0    66.0    6.0\n",
       "2020-06-20  4011.0    70.0    6.0\n",
       "2020-06-21  3953.0    22.0    6.0\n",
       "2020-06-22  5813.0    44.0    6.0\n",
       "2020-06-23  6419.0    76.0    6.0\n",
       "2020-06-24  4850.0    91.0    6.0\n",
       "2020-06-25  5524.0    82.0    6.0\n",
       "2020-06-26  5614.0    62.0    6.0\n",
       "2020-06-27  4426.0    30.0    6.0\n",
       "2020-06-28  5502.0    35.0    6.0\n",
       "2020-06-29  7040.0    42.0    6.0\n",
       "2020-06-30  8158.0   104.0    6.0"
      ]
     },
     "execution_count": 163,
     "metadata": {},
     "output_type": "execute_result"
    }
   ],
   "source": [
    "v = df[df[\"month\"]==6]\n",
    "v[v[\"cases\"]>=3000]"
   ]
  },
  {
   "cell_type": "code",
   "execution_count": 162,
   "metadata": {},
   "outputs": [
    {
     "data": {
      "text/plain": [
       "date\n",
       "2020-06-01    2529.0\n",
       "2020-06-02    2438.0\n",
       "2020-06-03    2326.0\n",
       "2020-06-04    2510.0\n",
       "2020-06-05    3593.0\n",
       "2020-06-06    2637.0\n",
       "2020-06-07    2850.0\n",
       "2020-06-08    2290.0\n",
       "2020-06-09    2958.0\n",
       "2020-06-10    2894.0\n",
       "2020-06-11    3570.0\n",
       "2020-06-12    3576.0\n",
       "2020-06-13    3149.0\n",
       "2020-06-14    2519.0\n",
       "2020-06-15    2709.0\n",
       "2020-06-16    3469.0\n",
       "2020-06-17    4250.0\n",
       "2020-06-18    3754.0\n",
       "2020-06-19    3708.0\n",
       "2020-06-20    4011.0\n",
       "2020-06-21    3953.0\n",
       "2020-06-22    5813.0\n",
       "2020-06-23    6419.0\n",
       "2020-06-24    4850.0\n",
       "2020-06-25    5524.0\n",
       "2020-06-26    5614.0\n",
       "2020-06-27    4426.0\n",
       "2020-06-28    5502.0\n",
       "2020-06-29    7040.0\n",
       "2020-06-30    8158.0\n",
       "Name: cases, dtype: float64"
      ]
     },
     "execution_count": 162,
     "metadata": {},
     "output_type": "execute_result"
    }
   ],
   "source": [
    "v"
   ]
  },
  {
   "cell_type": "code",
   "execution_count": null,
   "metadata": {},
   "outputs": [],
   "source": []
  }
 ],
 "metadata": {
  "interpreter": {
   "hash": "4a2ff0d406259f33a4f41f5f86ce6ab5fdcd2992592dbd420e0be3b67fceb834"
  },
  "kernelspec": {
   "display_name": "Python 3.10.0 64-bit",
   "language": "python",
   "name": "python3"
  },
  "language_info": {
   "codemirror_mode": {
    "name": "ipython",
    "version": 3
   },
   "file_extension": ".py",
   "mimetype": "text/x-python",
   "name": "python",
   "nbconvert_exporter": "python",
   "pygments_lexer": "ipython3",
   "version": "3.10.0"
  },
  "orig_nbformat": 4
 },
 "nbformat": 4,
 "nbformat_minor": 2
}
